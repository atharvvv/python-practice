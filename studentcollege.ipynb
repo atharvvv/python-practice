{
 "cells": [
  {
   "cell_type": "code",
   "execution_count": null,
   "metadata": {},
   "outputs": [
    {
     "name": "stdout",
     "output_type": "stream",
     "text": [
      "Enter  student information for student #1 in the following format (Name Age Contact_Number E-mail_ID): atharva vetal 12 567895678 atharva@gmail.com\n",
      "Entered information: atharva vetal 12 567895678 atharva@gmail.com\n",
      "Enter split up information is: ['atharva', 'vetal', '12', '567895678', 'atharva@gmail.com']\n",
      "\n",
      "The entered information is -\n",
      "Name: atharva\n",
      "Age: vetal\n",
      "contact_number: 12\n",
      "E-Mail ID: 567895678\n",
      "Is the entered information correct? (yes/ no): yes\n",
      "Enter (yes/no) if you want to enter information for another student: yes\n"
     ]
    }
   ],
   "source": [
    "import csv \n",
    "\n",
    "def write_info_csv(info_list):\n",
    "    with  open('student_info.csv' , 'a' , newline='') as csv_file: \n",
    "               writer = csv.writer(csv_file)\n",
    "               if csv_file.tell()==0:\n",
    "                    writer.writerow([\"Name\", \"Age\", \"Contact Number\", \"E-mail\"])\n",
    "            \n",
    "               \n",
    "               writer.writerow(info_list)\n",
    "\n",
    "\n",
    "if __name__ == '__main__':\n",
    "    \n",
    "    condition = True\n",
    "    student_num = 1\n",
    "    while(condition):\n",
    "    \n",
    "        student_info = input(\"Enter  student information for student #{} in the following format (Name Age Contact_Number E-mail_ID): \".format(student_num))\n",
    "        print(\"Entered information: \" +student_info)\n",
    "\n",
    "        student_info_list = student_info.split(' ')\n",
    "        print(\"Enter split up information is: \" + str(student_info_list))\n",
    "        \n",
    "        print(\"\\nThe entered information is -\\nName: {}\\nAge: {}\\ncontact_number: {}\\nE-Mail ID: {}\".format(student_info_list[0], student_info_list[1], student_info_list[2], student_info_list[3])\n",
    "             )\n",
    "        \n",
    "        choice_check = input(\"Is the entered information correct? (yes/ no): \")\n",
    "        \n",
    "        if choice_check == \"yes\":\n",
    "                write_info_csv(student_info_list)\n",
    "                \n",
    "                condition_check = input(\"Enter (yes/no) if you want to enter information for another student: \")\n",
    "                if condition_check == \"yes\":\n",
    "                    condition = True\n",
    "                    student_num = student_num + 1\n",
    "                elif condition_check == \"no\":\n",
    "                    condition = False \n",
    "        elif choice_check == \"no\":\n",
    "            print(\"\\nPlease re-enter the values:\")\n"
   ]
  },
  {
   "cell_type": "code",
   "execution_count": null,
   "metadata": {},
   "outputs": [],
   "source": []
  },
  {
   "cell_type": "code",
   "execution_count": null,
   "metadata": {},
   "outputs": [],
   "source": []
  },
  {
   "cell_type": "code",
   "execution_count": null,
   "metadata": {},
   "outputs": [],
   "source": []
  }
 ],
 "metadata": {
  "kernelspec": {
   "display_name": "Python 3",
   "language": "python",
   "name": "python3"
  },
  "language_info": {
   "codemirror_mode": {
    "name": "ipython",
    "version": 3
   },
   "file_extension": ".py",
   "mimetype": "text/x-python",
   "name": "python",
   "nbconvert_exporter": "python",
   "pygments_lexer": "ipython3",
   "version": "3.8.5"
  }
 },
 "nbformat": 4,
 "nbformat_minor": 4
}
